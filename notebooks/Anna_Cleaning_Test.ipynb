{
 "cells": [
  {
   "cell_type": "code",
   "execution_count": 1,
   "id": "da40088c",
   "metadata": {},
   "outputs": [],
   "source": [
    "import tensorflow as tf\n",
    "import mido as md\n",
    "import pandas as pd\n",
    "import numpy as np\n",
    "import os\n",
    "import time\n",
    "from IPython.display import clear_output\n",
    "import matplotlib.pyplot as plt\n",
    "import tensorflow.keras.layers as L\n",
    "import tensorflow.keras.models as M\n",
    "import tensorflow.keras\n",
    "from tensorflow.keras.layers import SimpleRNN,LSTM,GRU\n",
    "from sklearn.model_selection import train_test_split\n",
    "from music21 import *\n",
    "import subprocess"
   ]
  },
  {
   "cell_type": "code",
   "execution_count": 2,
   "id": "2ed29a9b",
   "metadata": {},
   "outputs": [],
   "source": [
    "%reload_ext autoreload\n",
    "%autoreload 2"
   ]
  },
  {
   "cell_type": "code",
   "execution_count": 3,
   "id": "bffdd80d",
   "metadata": {},
   "outputs": [
    {
     "name": "stdout",
     "output_type": "stream",
     "text": [
      "/Users/annavaugrante/code/zman950/deep_music/notebooks\r\n"
     ]
    }
   ],
   "source": [
    "!pwd"
   ]
  },
  {
   "cell_type": "code",
   "execution_count": 6,
   "id": "520a5a66",
   "metadata": {},
   "outputs": [
    {
     "name": "stderr",
     "output_type": "stream",
     "text": [
      "  % Total    % Received % Xferd  Average Speed   Time    Time     Time  Current\n",
      "                                 Dload  Upload   Total   Spent    Left  Speed\n",
      "100  4049    0     0  100  4049      0     91  0:00:44  0:00:44 --:--:--     0"
     ]
    },
    {
     "name": "stdout",
     "output_type": "stream",
     "text": [
      "b'Internal Server Error'\n",
      "None\n"
     ]
    },
    {
     "name": "stderr",
     "output_type": "stream",
     "text": [
      "\r",
      "100  4070    0    21  100  4049      0     89  0:00:45  0:00:45 --:--:--     4\r",
      "100  4070    0    21  100  4049      0     89  0:00:45  0:00:45 --:--:--     5\n"
     ]
    }
   ],
   "source": [
    "import subprocess\n",
    "length = 400\n",
    "randomness = 1\n",
    "song_file = \"../Tests_music/Age of Empires II The Age of Kings - Menu.mid\"\n",
    "file_data = subprocess.Popen([\n",
    "    'curl', '-X', 'POST',\n",
    "    f'https://api-image-3-2b76463dxa-ew.a.run.app/uploadfile/?prediction_length={length}&randomness={randomness}',\n",
    "    \"-H\", 'accept: application/json', \"-H\",\n",
    "    'Content-Type: multipart/form-data', \"-F\",\n",
    "    f'file=@{song_file};type=audio/mid'\n",
    "],stdout=subprocess.PIPE)\n",
    "\n",
    "(out, err) = file_data.communicate()\n",
    "print(out)\n",
    "print(err)\n",
    "with open(f'test_file.mid', 'wb') as test_midi:\n",
    "    test_midi.write(out)"
   ]
  },
  {
   "cell_type": "code",
   "execution_count": null,
   "id": "647e4371",
   "metadata": {},
   "outputs": [],
   "source": []
  }
 ],
 "metadata": {
  "kernelspec": {
   "display_name": "Python 3 (ipykernel)",
   "language": "python",
   "name": "python3"
  },
  "language_info": {
   "codemirror_mode": {
    "name": "ipython",
    "version": 3
   },
   "file_extension": ".py",
   "mimetype": "text/x-python",
   "name": "python",
   "nbconvert_exporter": "python",
   "pygments_lexer": "ipython3",
   "version": "3.8.12"
  },
  "toc": {
   "base_numbering": 1,
   "nav_menu": {},
   "number_sections": true,
   "sideBar": true,
   "skip_h1_title": false,
   "title_cell": "Table of Contents",
   "title_sidebar": "Contents",
   "toc_cell": false,
   "toc_position": {},
   "toc_section_display": true,
   "toc_window_display": false
  }
 },
 "nbformat": 4,
 "nbformat_minor": 5
}
