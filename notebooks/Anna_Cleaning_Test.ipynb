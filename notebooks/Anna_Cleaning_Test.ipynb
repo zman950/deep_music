{
 "cells": [
  {
   "cell_type": "code",
   "execution_count": 10,
   "id": "da40088c",
   "metadata": {},
   "outputs": [],
   "source": [
    "import tensorflow as tf\n",
    "import mido as md\n",
    "import pandas as pd\n",
    "import numpy as np\n",
    "import os\n",
    "import time\n",
    "from IPython.display import clear_output\n",
    "import matplotlib.pyplot as plt\n",
    "import tensorflow.keras.layers as L\n",
    "import tensorflow.keras.models as M\n",
    "import tensorflow.keras\n",
    "from tensorflow.keras.layers import SimpleRNN,LSTM,GRU\n",
    "from sklearn.model_selection import train_test_split\n",
    "from music21 import *\n",
    "import subprocess"
   ]
  },
  {
   "cell_type": "code",
   "execution_count": 4,
   "id": "2ed29a9b",
   "metadata": {},
   "outputs": [],
   "source": [
    "%reload_ext autoreload\n",
    "%autoreload 2"
   ]
  },
  {
   "cell_type": "code",
   "execution_count": 99,
   "id": "bffdd80d",
   "metadata": {},
   "outputs": [
    {
     "name": "stdout",
     "output_type": "stream",
     "text": [
      "/Users/annavaugrante/code/zman950/deep_music/notebooks\r\n"
     ]
    }
   ],
   "source": [
    "!pwd"
   ]
  },
  {
   "cell_type": "code",
   "execution_count": 113,
   "id": "520a5a66",
   "metadata": {},
   "outputs": [
    {
     "name": "stderr",
     "output_type": "stream",
     "text": [
      "  % Total    % Received % Xferd  Average Speed   Time    Time     Time  Current\n",
      "                                 Dload  Upload   Total   Spent    Left  Speed\n",
      "100  1972    0     0  100  1972      0   9435 --:--:-- --:--:-- --:--:--  9390"
     ]
    },
    {
     "name": "stdout",
     "output_type": "stream",
     "text": [
      "b'MThd\\x00\\x00\\x00\\x06\\x00\\x01\\x00\\x02\\x00\\xdcMTrk\\x00\\x00\\x00\\x13\\x00\\xffQ\\x03\\x07\\xa1 \\x00\\xffX\\x04\\x04\\x02\\x18\\x08\\x01\\xff/\\x00MTrk\\x00\\x00\\x02\\xc3\\x00\\xc0\\x00\\x00\\x90!dn!\\x00n!dn!\\x00n!dn!\\x00n!dn!\\x00\\x00#d7#\\x00\\x00$dn$\\x00\\x81%$dn$\\x00n$dn$\\x00n$dn$\\x00\\x00&d7&\\x00\\x00(dn(\\x00\\x81%(dn(\\x00n(dn(\\x00n(dn(\\x00n*d7*\\x007(d7(\\x007&d7&\\x007#d7#\\x007#d7#\\x007!d7!\\x007\\x1fd\\x81\\\\\\x1f\\x00\\x00!dn!\\x00n!dn!\\x00n!dn!\\x00n!dn!\\x00\\x00#d7#\\x00\\x00$dn$\\x00\\x81%$dn$\\x00n$dn$\\x00n$dn$\\x00\\x00&d7&\\x00\\x00(dn(\\x00\\x81%(dn(\\x00n(dn(\\x00n(dn(\\x00n*d7*\\x007(d7(\\x007&d7&\\x007#d7#\\x007#d7#\\x007!d7!\\x007\\x1fd\\x81\\\\\\x1f\\x00\\x00!dn!\\x00n!dn!\\x00n!dn!\\x00n!dn!\\x00\\x00#d7#\\x00\\x00$dn$\\x00\\x81%$dn$\\x00n$dn$\\x00n$dn$\\x00\\x00&d7&\\x00\\x00(dn(\\x00\\x81%(dn(\\x00n(dn(\\x00n(dn(\\x00n*d7*\\x007(d7(\\x007&d7&\\x007#d7#\\x007#d7#\\x007!d7!\\x007\\x1fd\\x81\\\\\\x1f\\x00\\x81\\\\!dn!\\x00n#dn#\\x00n#dn#\\x00n$d7$\\x00\\x81%$dn$\\x00n$dn$\\x00n$dn$\\x00n&dn&\\x007&d\\x82\\x13&\\x00\\x81\\\\&dn&\\x00n$dn$\\x00n#dn#\\x007!dn!\\x007!d7!\\x007!dn!\\x00n#dn#\\x00n!dn!\\x00n!dn!\\x00n!d7!\\x00n!d\\x81\\\\!\\x007#d\\x81%#\\x00\\x83o-d7-\\x00\\x81%-dn-\\x00n-d7-\\x00\\x81%-dn-\\x00n+dn+\\x00n+dn+\\x00n-dn+d\\x00-\\x00\\x81\\\\+\\x00\\x00-dn+d\\x00-\\x007+\\x00\\x83\\x01*dn*\\x00n*d7*\\x007+dn+\\x00\\x00-d\\x81\\\\+d\\x00-\\x00n+\\x00n*dn*\\x00n*dn*\\x00n+dn+\\x00n*dn*\\x00n(d\\x81\\\\(\\x00\\x00(dn(\\x00n&d7&\\x00\\x81%&dn&\\x00n+d\\x81%+\\x007*d\\x81%*\\x007(d\\x81\\\\(\\x00\\x81\\\\(dn(\\x00n&dn&\\x00\\x01\\xff/\\x00'\n",
      "None\n"
     ]
    },
    {
     "name": "stderr",
     "output_type": "stream",
     "text": [
      "\r",
      "100  1972    0     0  100  1972      0   1624  0:00:01  0:00:01 --:--:--  1623\r",
      "100  2728  100   756  100  1972    543   1418  0:00:01  0:00:01 --:--:--  1961\n"
     ]
    }
   ],
   "source": [
    "import subprocess\n",
    "length = 400\n",
    "randomness = 1\n",
    "song_file = \"../Tests_music/Daft Punk - Around The World.mid\"\n",
    "file_data = subprocess.Popen([\n",
    "    'curl', '-X', 'POST',\n",
    "    f'https://api-image-3-2b76463dxa-ew.a.run.app/uploadfile/?prediction_length={length}&randomness={randomness}',\n",
    "    \"-H\", 'accept: application/json', \"-H\",\n",
    "    'Content-Type: multipart/form-data', \"-F\",\n",
    "    f'file=@{song_file};type=audio/mid'\n",
    "],stdout=subprocess.PIPE)\n",
    "\n",
    "(out, err) = file_data.communicate()\n",
    "print(out)\n",
    "print(err)\n",
    "with open(f'test_file.mid', 'wb') as test_midi:\n",
    "    test_midi.write(out)"
   ]
  },
  {
   "cell_type": "code",
   "execution_count": null,
   "id": "647e4371",
   "metadata": {},
   "outputs": [],
   "source": []
  }
 ],
 "metadata": {
  "kernelspec": {
   "display_name": "Python 3 (ipykernel)",
   "language": "python",
   "name": "python3"
  },
  "language_info": {
   "codemirror_mode": {
    "name": "ipython",
    "version": 3
   },
   "file_extension": ".py",
   "mimetype": "text/x-python",
   "name": "python",
   "nbconvert_exporter": "python",
   "pygments_lexer": "ipython3",
   "version": "3.8.12"
  },
  "toc": {
   "base_numbering": 1,
   "nav_menu": {},
   "number_sections": true,
   "sideBar": true,
   "skip_h1_title": false,
   "title_cell": "Table of Contents",
   "title_sidebar": "Contents",
   "toc_cell": false,
   "toc_position": {},
   "toc_section_display": true,
   "toc_window_display": false
  }
 },
 "nbformat": 4,
 "nbformat_minor": 5
}
